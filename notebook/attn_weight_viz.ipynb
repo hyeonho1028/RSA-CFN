{
 "cells": [
  {
   "cell_type": "code",
   "execution_count": 1,
   "metadata": {},
   "outputs": [],
   "source": [
    "import sys\n",
    "sys.path.append('../')"
   ]
  },
  {
   "cell_type": "code",
   "execution_count": 2,
   "metadata": {},
   "outputs": [],
   "source": [
    "from src.trainer import *\n",
    "from main import *\n",
    "\n",
    "import matplotlib.pyplot as plt\n",
    "import seaborn as sns\n",
    "\n",
    "import yaml\n",
    "\n",
    "from argparse import Namespace\n",
    "\n",
    "with open('../config.yaml', 'r') as f:\n",
    "    config_dict = yaml.load(f, Loader=yaml.FullLoader)\n",
    "args = Namespace(**config_dict)"
   ]
  },
  {
   "cell_type": "code",
   "execution_count": 3,
   "metadata": {},
   "outputs": [
    {
     "name": "stdout",
     "output_type": "stream",
     "text": [
      "Load Merge Data\n"
     ]
    },
    {
     "name": "stderr",
     "output_type": "stream",
     "text": [
      "100%|██████████| 40/40 [01:55<00:00,  2.88s/it]\n"
     ]
    },
    {
     "name": "stdout",
     "output_type": "stream",
     "text": [
      "Complete Merge Dataset\n"
     ]
    }
   ],
   "source": [
    "print('Load Merge Data')\n",
    "data = data_load(data_path='../' + args.data_path, use_wav=args.use_wav)\n",
    "data['Emotion'] = data['Emotion'].apply(lambda x: x.replace('disqust', 'disgust'))\n",
    "print('Complete Merge Dataset')\n",
    "\n",
    "label_dict = {'neutral': 0, 'happy': 1, 'angry': 2, 'surprise': 3, 'sad': 4, 'fear': 5, 'disgust': 6}\n",
    "subset_data = data.copy()\n",
    "subset_data['Emotion'] = subset_data['Emotion'].map(label_dict)\n",
    "subset_data = subset_data.dropna(subset=['Emotion'])\n",
    "\n",
    "df_train, df_valid = train_test_split(\n",
    "                                    subset_data,\n",
    "                                    test_size=0.2,\n",
    "                                    random_state=42,\n",
    "                                    shuffle=True,\n",
    "                                    stratify=subset_data['Emotion'],\n",
    "                                    )\n",
    "\n",
    "# set label transform\n",
    "if args.label_transform:\n",
    "    print('Apply Label transform')\n",
    "    modify_data = data[data['Emotion'].apply(lambda x: (True if len(x.split(';'))==2 else False) & ('neutral' in  x.split(';')))]\n",
    "    modify_data['Emotion'] = modify_data['Emotion'].apply(lambda x: x.replace('neutral', '').replace(';', ''))\n",
    "    modify_data['Emotion'] = modify_data['Emotion'].map(label_dict)\n",
    "    df_train = pd.concat([df_train, modify_data], axis=0)\n",
    "\n",
    "df_train, df_valid = df_train.reset_index(drop=True), df_valid.reset_index(drop=True)\n",
    "\n",
    "args.wav_config = AutoConfig.from_pretrained(args.wav_model, num_labels=len(label_dict), finetuning_task='wav2vec2_clf')\n",
    "feature_extractor = Wav2Vec2FeatureExtractor.from_pretrained(args.wav_model)\n",
    "args.data_collator = DataCollatorCTCWithPadding(feature_extractor=feature_extractor, padding=True, max_length=args.audio_max_lens)\n",
    "\n",
    "if 'xlm' in args.rnn_model:\n",
    "    args.rnn_config = XLMRobertaConfig.from_pretrained(args.rnn_model)\n",
    "    args.rnn_config.hidden_dropout_prob = 0\n",
    "    args.rnn_config.attention_probs_dropout_prob = 0\n",
    "    tokenizer = XLMRobertaTokenizer.from_pretrained(args.rnn_model)\n",
    "else:\n",
    "    args.rnn_config = AutoConfig.from_pretrained(args.rnn_model)\n",
    "    args.rnn_config.hidden_dropout_prob = 0\n",
    "    args.rnn_config.attention_probs_dropout_prob = 0\n",
    "    tokenizer = AutoTokenizer.from_pretrained(args.rnn_model)"
   ]
  },
  {
   "cell_type": "code",
   "execution_count": 4,
   "metadata": {},
   "outputs": [
    {
     "name": "stderr",
     "output_type": "stream",
     "text": [
      "Some weights of the model checkpoint at facebook/wav2vec2-large-960h-lv60-self were not used when initializing Wav2Vec2Model: ['lm_head.weight', 'lm_head.bias']\n",
      "- This IS expected if you are initializing Wav2Vec2Model from the checkpoint of a model trained on another task or with another architecture (e.g. initializing a BertForSequenceClassification model from a BertForPreTraining model).\n",
      "- This IS NOT expected if you are initializing Wav2Vec2Model from the checkpoint of a model that you expect to be exactly identical (initializing a BertForSequenceClassification model from a BertForSequenceClassification model).\n",
      "Some weights of Wav2Vec2Model were not initialized from the model checkpoint at facebook/wav2vec2-large-960h-lv60-self and are newly initialized: ['wav2vec2.masked_spec_embed']\n",
      "You should probably TRAIN this model on a down-stream task to be able to use it for predictions and inference.\n",
      "Some weights of the model checkpoint at klue/roberta-base were not used when initializing RobertaModel: ['lm_head.decoder.bias', 'lm_head.bias', 'lm_head.layer_norm.weight', 'lm_head.decoder.weight', 'lm_head.dense.weight', 'lm_head.layer_norm.bias', 'lm_head.dense.bias']\n",
      "- This IS expected if you are initializing RobertaModel from the checkpoint of a model trained on another task or with another architecture (e.g. initializing a BertForSequenceClassification model from a BertForPreTraining model).\n",
      "- This IS NOT expected if you are initializing RobertaModel from the checkpoint of a model that you expect to be exactly identical (initializing a BertForSequenceClassification model from a BertForSequenceClassification model).\n",
      "Some weights of RobertaModel were not initialized from the model checkpoint at klue/roberta-base and are newly initialized: ['roberta.pooler.dense.weight', 'roberta.pooler.dense.bias']\n",
      "You should probably TRAIN this model on a down-stream task to be able to use it for predictions and inference.\n"
     ]
    },
    {
     "data": {
      "text/plain": [
       "<All keys matched successfully>"
      ]
     },
     "execution_count": 4,
     "metadata": {},
     "output_type": "execute_result"
    }
   ],
   "source": [
    "args.valid_dataset = Custom_Dataset(args, df_valid, tokenizer, feature_extractor)\n",
    "\n",
    "valid_dataloader = DataLoader(\n",
    "                            args.valid_dataset,\n",
    "                            batch_size=args.val_batch_size,\n",
    "                            num_workers=1,\n",
    "                            shuffle=False,\n",
    "                            sampler = SequentialSampler(args.valid_dataset),\n",
    "                            collate_fn=args.data_collator,\n",
    "                            drop_last=True,\n",
    "                            pin_memory=True,\n",
    "                        )\n",
    "\n",
    "args.use_concat = True\n",
    "args.multimodal_method = 'rsa'\n",
    "args.wav_config.pooling_mode = args.pooling_mode\n",
    "args.rnn_config.num_classes = args.num_classes\n",
    "\n",
    "model = MultiModel(args)\n",
    "model.wav_freeze_feature_extractor()\n",
    "model.to(args.device)\n",
    "\n",
    "model.load_state_dict(torch.load('../models/f_rsa/EPOCH3_train_loss0.23938_valid_loss0.35843_train_f10.91496_valid_f10.89340.pth'))"
   ]
  },
  {
   "cell_type": "code",
   "execution_count": 6,
   "metadata": {},
   "outputs": [
    {
     "name": "stderr",
     "output_type": "stream",
     "text": [
      "loss : 0.17027: 100%|██████████| 80/80 [00:49<00:00,  1.61it/s]\n"
     ]
    }
   ],
   "source": [
    "def valid_fn(args, valid_dataloader, model, criterion):\n",
    "    \n",
    "    model.eval()\n",
    "    bar = tqdm(valid_dataloader)\n",
    "    valid_preds = []\n",
    "    valid_labels = []\n",
    "    valid_loss = 0.0\n",
    "    attn_weights = []\n",
    "\n",
    "    with torch.no_grad():\n",
    "        for idx, batch in enumerate(bar):\n",
    "            batch = {k: v.to(args.device) for k, v in batch.items()}\n",
    "            if args.use_amp:\n",
    "                with torch.cuda.amp.autocast():\n",
    "                    pred, attn_w = sharing_step(args, model, batch)\n",
    "                    \n",
    "                    loss = criterion(pred, batch['labels'])\n",
    "            else:\n",
    "                pred, attn_w = sharing_step(args, model, batch)\n",
    "                \n",
    "                loss = criterion(pred, batch['labels'])\n",
    "            \n",
    "            valid_preds += [pred.clone().detach().cpu()]\n",
    "            valid_labels += [batch['labels'].clone().detach().cpu()]\n",
    "            \n",
    "            if args.multimodal_method=='rsa':\n",
    "                attn_weights += [attn_w.clone().detach().cpu().numpy()]\n",
    "\n",
    "            valid_loss += loss.item()\n",
    "            bar.set_description('loss : %.5f' % (loss.item()))\n",
    "        \n",
    "        valid_loss /= idx\n",
    "\n",
    "    valid_preds, valid_labels = np.concatenate(valid_preds), np.concatenate(valid_labels).reshape(-1)    \n",
    "    valid_preds = np.argmax(valid_preds, 1)\n",
    "    \n",
    "    f1 = f1_score(valid_labels, valid_preds, average='weighted')\n",
    "    valids = {  \n",
    "                'valid_preds':valid_preds,\n",
    "                'val_loss':valid_loss,\n",
    "                'val_f1':f1,\n",
    "                'attn_weights':attn_weights,\n",
    "            }\n",
    "    return valids\n",
    "\n",
    "criterion = nn.CrossEntropyLoss()\n",
    "valids = valid_fn(args, valid_dataloader, model, criterion)"
   ]
  },
  {
   "cell_type": "code",
   "execution_count": 7,
   "metadata": {},
   "outputs": [],
   "source": [
    "attn_w = np.concatenate(valids['attn_weights'], axis=0)"
   ]
  },
  {
   "cell_type": "code",
   "execution_count": 8,
   "metadata": {},
   "outputs": [],
   "source": [
    "labels = df_valid['Emotion'].values[:2560]\n",
    "attn_w_0 = np.mean(attn_w[labels==0], axis=0)\n",
    "attn_w_n0 = np.mean(attn_w[labels!=0], axis=0)"
   ]
  },
  {
   "cell_type": "code",
   "execution_count": 9,
   "metadata": {},
   "outputs": [
    {
     "data": {
      "image/png": "[encoded data removed]",
      "text/plain": [
       "<Figure size 1500x500 with 1 Axes>"
      ]
     },
     "metadata": {},
     "output_type": "display_data"
    }
   ],
   "source": [
    "plt.figure(figsize=(15, 5))\n",
    "plt.bar(np.arange(attn_w_0.shape[0]), np.median(attn_w_0, axis=0), width=0.55, alpha=1.0, label='Neutral')\n",
    "plt.bar(np.arange(attn_w_n0.shape[0]), np.median(attn_w_n0, axis=0), width=0.55, alpha=1.0, label='Not Neutral')\n",
    "plt.ylim(0.0007, 0.0014)\n",
    "plt.axvline(1024, color='r', alpha=0.6, linestyle='--')\n",
    "plt.text(512, 0.00135, \"Wav Vector\", fontsize=13, va='center', ha='center', alpha=1.0)\n",
    "plt.text(1450, 0.00135, \"Text Vector\", fontsize=13, va='center', ha='center', alpha=1.0)\n",
    "plt.legend(loc='upper left')\n",
    "plt.show()"
   ]
  },
  {
   "cell_type": "code",
   "execution_count": null,
   "metadata": {},
   "outputs": [],
   "source": []
  }
 ],
 "metadata": {
  "kernelspec": {
   "display_name": "ray_pl",
   "language": "python",
   "name": "python3"
  },
  "language_info": {
   "codemirror_mode": {
    "name": "ipython",
    "version": 3
   },
   "file_extension": ".py",
   "mimetype": "text/x-python",
   "name": "python",
   "nbconvert_exporter": "python",
   "pygments_lexer": "ipython3",
   "version": "3.9.7"
  },
  "orig_nbformat": 4,
  "vscode": {
   "interpreter": {
    "hash": "65e69a851bb5a179bf7435f637a9dd3f2d67ff7b0f73f2181633d998f9e977c5"
   }
  }
 },
 "nbformat": 4,
 "nbformat_minor": 2
}
